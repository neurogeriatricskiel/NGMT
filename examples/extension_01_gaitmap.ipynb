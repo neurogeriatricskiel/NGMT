{
 "cells": [
  {
   "cell_type": "markdown",
   "metadata": {},
   "source": [
    "# Tutorial: Using gaitmap for inital contact detection\n",
    "\n",
    "**Author:** Julius Welzel\n",
    "**Last update:** Thu 18 Jul 2024\n",
    "\n",
    "## Learning objectives\n",
    "By the end of this tutorial:\n",
    "- You can load data from a recording that belongs KeepControl dataset,  \n",
    "- Apply the [BarthDtw algorithm](https://gaitmap.readthedocs.io/en/latest/modules/generated/stride_segmentation/gaitmap.stride_segmentation.BarthDtw.html#gaitmap.stride_segmentation.BarthDtw) to perform gait segmentation,\n",
    "- Visualize the results,  \n",
    "- Export the events to a [BIDS-like format](https://bids-specification.readthedocs.io/en/stable/modality-specific-files/task-events.html)."
   ]
  },
  {
   "cell_type": "code",
   "execution_count": null,
   "metadata": {},
   "outputs": [],
   "source": [
    "import matplotlib.pyplot as plt\n",
    "import numpy\n",
    "\n",
    "from gaitmap.utils.consts import BF_GYR\n",
    "from gaitmap.utils.coordinate_conversion import convert_left_foot_to_fbf, convert_to_fbf\n",
    "from gaitmap.utils.datatype_helper import to_dict_multi_sensor_data"
   ]
  }
 ],
 "metadata": {
  "kernelspec": {
   "display_name": ".venv",
   "language": "python",
   "name": "python3"
  },
  "language_info": {
   "codemirror_mode": {
    "name": "ipython",
    "version": 3
   },
   "file_extension": ".py",
   "mimetype": "text/x-python",
   "name": "python",
   "nbconvert_exporter": "python",
   "pygments_lexer": "ipython3",
   "version": "3.10.1"
  }
 },
 "nbformat": 4,
 "nbformat_minor": 2
}
